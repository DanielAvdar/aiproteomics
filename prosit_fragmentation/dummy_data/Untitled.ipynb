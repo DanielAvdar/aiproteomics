{
 "cells": [
  {
   "cell_type": "code",
   "execution_count": 1,
   "id": "0c104d25-9c5e-445f-80a7-84f20dd00358",
   "metadata": {
    "tags": []
   },
   "outputs": [],
   "source": [
    "import requests"
   ]
  },
  {
   "cell_type": "code",
   "execution_count": 2,
   "id": "c5ee6e9b-8600-4939-85a7-c377dabadb34",
   "metadata": {
    "tags": []
   },
   "outputs": [],
   "source": [
    "dataset_uri = \"https://figshare.com/ndownloader/files/12785291\""
   ]
  },
  {
   "cell_type": "code",
   "execution_count": 3,
   "id": "1283832a-fc9b-444c-8e5d-06918a6cd55b",
   "metadata": {
    "tags": []
   },
   "outputs": [],
   "source": [
    "dataset_path = \"../../traintest_hcd.hdf5\""
   ]
  },
  {
   "cell_type": "code",
   "execution_count": 4,
   "id": "6446a79b-f64d-4ae4-b208-5ac9ea9b19fc",
   "metadata": {
    "tags": []
   },
   "outputs": [],
   "source": [
    "import h5py"
   ]
  },
  {
   "cell_type": "code",
   "execution_count": 5,
   "id": "7432e65a-6df4-4f63-b836-c00101fb3c77",
   "metadata": {
    "tags": []
   },
   "outputs": [],
   "source": [
    "original_file = h5py.File(dataset_path, 'r')"
   ]
  },
  {
   "cell_type": "code",
   "execution_count": 8,
   "id": "80f54996-074e-416c-8246-1a1764f508ef",
   "metadata": {},
   "outputs": [],
   "source": [
    "sample_size = 4\n",
    "sample_filename = \"sample.hdf5\"\n",
    "with h5py.File(\"sample.hdf5\", \"w\") as sample_file:\n",
    "    for k in original_file.keys():\n",
    "        data = original_file[k][:sample_size]\n",
    "        dset = sample_file.create_dataset(k, data.shape, data.dtype)\n",
    "        dset[()] = data\n",
    "                                          "
   ]
  },
  {
   "cell_type": "code",
   "execution_count": 9,
   "id": "87041bcb-f665-4348-a0e7-8729a12c9bee",
   "metadata": {
    "tags": []
   },
   "outputs": [
    {
     "name": "stdout",
     "output_type": "stream",
     "text": [
      "[[30.]\n",
      " [20.]\n",
      " [35.]\n",
      " [23.]]\n"
     ]
    }
   ],
   "source": [
    "with h5py.File(sample_filename) as f:\n",
    "    print(f[\"collision_energy\"][:sample_size])"
   ]
  },
  {
   "cell_type": "code",
   "execution_count": 10,
   "id": "ae5eab8e-6013-48d4-95b8-a9e2b4137ea2",
   "metadata": {
    "tags": []
   },
   "outputs": [
    {
     "name": "stdout",
     "output_type": "stream",
     "text": [
      "[[30.]\n",
      " [20.]\n",
      " [35.]\n",
      " [23.]]\n"
     ]
    }
   ],
   "source": [
    "print(original_file[\"collision_energy\"][:sample_size])"
   ]
  },
  {
   "cell_type": "code",
   "execution_count": 11,
   "id": "55c040bd-dd0c-4d4b-965e-e81e38b94add",
   "metadata": {
    "tags": []
   },
   "outputs": [],
   "source": [
    "val_sample_filename = \"val_sample.hdf5\"\n",
    "sample_size = 4\n",
    "with h5py.File(val_sample_filename, \"w\") as sample_file:\n",
    "    for k in original_file.keys():\n",
    "        data = original_file[k][sample_size:2*sample_size]\n",
    "        dset = sample_file.create_dataset(k, data.shape, data.dtype)\n",
    "        dset[()] = data\n",
    "                                          "
   ]
  },
  {
   "cell_type": "code",
   "execution_count": 12,
   "id": "2af5f0b5-4c0f-46eb-be13-ee3294f0d5cc",
   "metadata": {
    "tags": []
   },
   "outputs": [
    {
     "data": {
      "text/plain": [
       "<Closed HDF5 file>"
      ]
     },
     "execution_count": 12,
     "metadata": {},
     "output_type": "execute_result"
    }
   ],
   "source": []
  },
  {
   "cell_type": "code",
   "execution_count": 14,
   "id": "cef07c74-a2f9-432e-bd38-d84f0f35b95f",
   "metadata": {
    "tags": []
   },
   "outputs": [
    {
     "data": {
      "text/plain": [
       "<HDF5 dataset \"collision_energy\": shape (6787933, 1), type \"<f8\">"
      ]
     },
     "execution_count": 14,
     "metadata": {},
     "output_type": "execute_result"
    }
   ],
   "source": [
    "original_file[\"collision_energy\"]"
   ]
  },
  {
   "cell_type": "code",
   "execution_count": null,
   "id": "18784ae0-2e89-4c28-8d6f-c5a4978cd945",
   "metadata": {},
   "outputs": [],
   "source": []
  }
 ],
 "metadata": {
  "kernelspec": {
   "display_name": "Python 3 (ipykernel)",
   "language": "python",
   "name": "python3"
  },
  "language_info": {
   "codemirror_mode": {
    "name": "ipython",
    "version": 3
   },
   "file_extension": ".py",
   "mimetype": "text/x-python",
   "name": "python",
   "nbconvert_exporter": "python",
   "pygments_lexer": "ipython3",
   "version": "3.10.12"
  }
 },
 "nbformat": 4,
 "nbformat_minor": 5
}
